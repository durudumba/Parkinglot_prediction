{
  "nbformat": 4,
  "nbformat_minor": 0,
  "metadata": {
    "colab": {
      "name": "머신러닝 접근 basic.ipynb",
      "provenance": [],
      "collapsed_sections": []
    },
    "kernelspec": {
      "name": "python3",
      "display_name": "Python 3"
    },
    "language_info": {
      "name": "python"
    }
  },
  "cells": [
    {
      "cell_type": "code",
      "metadata": {
        "colab": {
          "base_uri": "https://localhost:8080/"
        },
        "id": "IsxH1suAcF49",
        "outputId": "9c17fa57-8376-4c11-96f7-a080b5c654fd"
      },
      "source": [
        "pip install catboost"
      ],
      "execution_count": 1,
      "outputs": [
        {
          "output_type": "stream",
          "text": [
            "Requirement already satisfied: catboost in /usr/local/lib/python3.7/dist-packages (0.26)\n",
            "Requirement already satisfied: numpy>=1.16.0 in /usr/local/lib/python3.7/dist-packages (from catboost) (1.19.5)\n",
            "Requirement already satisfied: plotly in /usr/local/lib/python3.7/dist-packages (from catboost) (4.4.1)\n",
            "Requirement already satisfied: graphviz in /usr/local/lib/python3.7/dist-packages (from catboost) (0.10.1)\n",
            "Requirement already satisfied: scipy in /usr/local/lib/python3.7/dist-packages (from catboost) (1.4.1)\n",
            "Requirement already satisfied: matplotlib in /usr/local/lib/python3.7/dist-packages (from catboost) (3.2.2)\n",
            "Requirement already satisfied: six in /usr/local/lib/python3.7/dist-packages (from catboost) (1.15.0)\n",
            "Requirement already satisfied: pandas>=0.24.0 in /usr/local/lib/python3.7/dist-packages (from catboost) (1.1.5)\n",
            "Requirement already satisfied: pytz>=2017.2 in /usr/local/lib/python3.7/dist-packages (from pandas>=0.24.0->catboost) (2018.9)\n",
            "Requirement already satisfied: python-dateutil>=2.7.3 in /usr/local/lib/python3.7/dist-packages (from pandas>=0.24.0->catboost) (2.8.1)\n",
            "Requirement already satisfied: pyparsing!=2.0.4,!=2.1.2,!=2.1.6,>=2.0.1 in /usr/local/lib/python3.7/dist-packages (from matplotlib->catboost) (2.4.7)\n",
            "Requirement already satisfied: cycler>=0.10 in /usr/local/lib/python3.7/dist-packages (from matplotlib->catboost) (0.10.0)\n",
            "Requirement already satisfied: kiwisolver>=1.0.1 in /usr/local/lib/python3.7/dist-packages (from matplotlib->catboost) (1.3.1)\n",
            "Requirement already satisfied: retrying>=1.3.3 in /usr/local/lib/python3.7/dist-packages (from plotly->catboost) (1.3.3)\n"
          ],
          "name": "stdout"
        }
      ]
    },
    {
      "cell_type": "code",
      "metadata": {
        "colab": {
          "base_uri": "https://localhost:8080/"
        },
        "id": "pYZYtCjjcIPv",
        "outputId": "38370cf7-c980-4b9c-9667-5c65d4b65c42"
      },
      "source": [
        "pip install optuna"
      ],
      "execution_count": 2,
      "outputs": [
        {
          "output_type": "stream",
          "text": [
            "Requirement already satisfied: optuna in /usr/local/lib/python3.7/dist-packages (2.8.0)\n",
            "Requirement already satisfied: cmaes>=0.8.2 in /usr/local/lib/python3.7/dist-packages (from optuna) (0.8.2)\n",
            "Requirement already satisfied: packaging>=20.0 in /usr/local/lib/python3.7/dist-packages (from optuna) (21.0)\n",
            "Requirement already satisfied: numpy in /usr/local/lib/python3.7/dist-packages (from optuna) (1.19.5)\n",
            "Requirement already satisfied: sqlalchemy>=1.1.0 in /usr/local/lib/python3.7/dist-packages (from optuna) (1.4.20)\n",
            "Requirement already satisfied: scipy!=1.4.0 in /usr/local/lib/python3.7/dist-packages (from optuna) (1.4.1)\n",
            "Requirement already satisfied: cliff in /usr/local/lib/python3.7/dist-packages (from optuna) (3.8.0)\n",
            "Requirement already satisfied: alembic in /usr/local/lib/python3.7/dist-packages (from optuna) (1.6.5)\n",
            "Requirement already satisfied: colorlog in /usr/local/lib/python3.7/dist-packages (from optuna) (5.0.1)\n",
            "Requirement already satisfied: tqdm in /usr/local/lib/python3.7/dist-packages (from optuna) (4.41.1)\n",
            "Requirement already satisfied: pyparsing>=2.0.2 in /usr/local/lib/python3.7/dist-packages (from packaging>=20.0->optuna) (2.4.7)\n",
            "Requirement already satisfied: importlib-metadata in /usr/local/lib/python3.7/dist-packages (from sqlalchemy>=1.1.0->optuna) (4.6.1)\n",
            "Requirement already satisfied: greenlet!=0.4.17 in /usr/local/lib/python3.7/dist-packages (from sqlalchemy>=1.1.0->optuna) (1.1.0)\n",
            "Requirement already satisfied: Mako in /usr/local/lib/python3.7/dist-packages (from alembic->optuna) (1.1.4)\n",
            "Requirement already satisfied: python-editor>=0.3 in /usr/local/lib/python3.7/dist-packages (from alembic->optuna) (1.0.4)\n",
            "Requirement already satisfied: python-dateutil in /usr/local/lib/python3.7/dist-packages (from alembic->optuna) (2.8.1)\n",
            "Requirement already satisfied: cmd2>=1.0.0 in /usr/local/lib/python3.7/dist-packages (from cliff->optuna) (2.1.2)\n",
            "Requirement already satisfied: PrettyTable>=0.7.2 in /usr/local/lib/python3.7/dist-packages (from cliff->optuna) (2.1.0)\n",
            "Requirement already satisfied: stevedore>=2.0.1 in /usr/local/lib/python3.7/dist-packages (from cliff->optuna) (3.3.0)\n",
            "Requirement already satisfied: PyYAML>=3.12 in /usr/local/lib/python3.7/dist-packages (from cliff->optuna) (3.13)\n",
            "Requirement already satisfied: pbr!=2.1.0,>=2.0.0 in /usr/local/lib/python3.7/dist-packages (from cliff->optuna) (5.6.0)\n",
            "Requirement already satisfied: typing-extensions in /usr/local/lib/python3.7/dist-packages (from cmd2>=1.0.0->cliff->optuna) (3.7.4.3)\n",
            "Requirement already satisfied: pyperclip>=1.6 in /usr/local/lib/python3.7/dist-packages (from cmd2>=1.0.0->cliff->optuna) (1.8.2)\n",
            "Requirement already satisfied: attrs>=16.3.0 in /usr/local/lib/python3.7/dist-packages (from cmd2>=1.0.0->cliff->optuna) (21.2.0)\n",
            "Requirement already satisfied: colorama>=0.3.7 in /usr/local/lib/python3.7/dist-packages (from cmd2>=1.0.0->cliff->optuna) (0.4.4)\n",
            "Requirement already satisfied: wcwidth>=0.1.7 in /usr/local/lib/python3.7/dist-packages (from cmd2>=1.0.0->cliff->optuna) (0.2.5)\n",
            "Requirement already satisfied: zipp>=0.5 in /usr/local/lib/python3.7/dist-packages (from importlib-metadata->sqlalchemy>=1.1.0->optuna) (3.5.0)\n",
            "Requirement already satisfied: MarkupSafe>=0.9.2 in /usr/local/lib/python3.7/dist-packages (from Mako->alembic->optuna) (2.0.1)\n",
            "Requirement already satisfied: six>=1.5 in /usr/local/lib/python3.7/dist-packages (from python-dateutil->alembic->optuna) (1.15.0)\n"
          ],
          "name": "stdout"
        }
      ]
    },
    {
      "cell_type": "code",
      "metadata": {
        "id": "QKO2oAFzziFZ"
      },
      "source": [
        "#라이브러리\n",
        "import pandas as pd\n",
        "import numpy as np\n",
        "import matplotlib.pyplot as plt\n",
        "%matplotlib inline\n",
        "from sklearn.preprocessing import RobustScaler, StandardScaler\n",
        "\n",
        "from catboost import CatBoostRegressor\n",
        "import optuna\n",
        "from optuna import Trial\n",
        "from optuna.samplers import TPESampler\n",
        "from sklearn.metrics import mean_absolute_error\n",
        "from sklearn.model_selection import train_test_split, StratifiedKFold"
      ],
      "execution_count": 3,
      "outputs": []
    },
    {
      "cell_type": "code",
      "metadata": {
        "id": "ilYgbo-Pzj_c"
      },
      "source": [
        "train = pd.read_csv('./data/train.csv')\n",
        "test = pd.read_csv('./data/test.csv')"
      ],
      "execution_count": 32,
      "outputs": []
    },
    {
      "cell_type": "code",
      "metadata": {
        "colab": {
          "base_uri": "https://localhost:8080/"
        },
        "id": "u9tWeFS3q_nQ",
        "outputId": "4361aa3a-c8d0-4cd9-e652-8f908bcdaaf4"
      },
      "source": [
        "train.info()"
      ],
      "execution_count": 33,
      "outputs": [
        {
          "output_type": "stream",
          "text": [
            "<class 'pandas.core.frame.DataFrame'>\n",
            "RangeIndex: 2952 entries, 0 to 2951\n",
            "Data columns (total 15 columns):\n",
            " #   Column                        Non-Null Count  Dtype  \n",
            "---  ------                        --------------  -----  \n",
            " 0   단지코드                          2952 non-null   object \n",
            " 1   총세대수                          2952 non-null   int64  \n",
            " 2   임대건물구분                        2952 non-null   object \n",
            " 3   지역                            2952 non-null   object \n",
            " 4   공급유형                          2952 non-null   object \n",
            " 5   전용면적                          2952 non-null   float64\n",
            " 6   전용면적별세대수                      2952 non-null   int64  \n",
            " 7   공가수                           2952 non-null   float64\n",
            " 8   자격유형                          2952 non-null   object \n",
            " 9   임대보증금                         2383 non-null   object \n",
            " 10  임대료                           2383 non-null   object \n",
            " 11  도보 10분거리 내 지하철역 수(환승노선 수 반영)  2741 non-null   float64\n",
            " 12  도보 10분거리 내 버스정류장 수            2948 non-null   float64\n",
            " 13  단지내주차면수                       2952 non-null   float64\n",
            " 14  등록차량수                         2952 non-null   float64\n",
            "dtypes: float64(6), int64(2), object(7)\n",
            "memory usage: 346.1+ KB\n"
          ],
          "name": "stdout"
        }
      ]
    },
    {
      "cell_type": "code",
      "metadata": {
        "id": "y_J_02ioqTx7"
      },
      "source": [
        "#오류 단지코드 제거\n",
        "train_err=['C2085','C1397','C2431','C1649','C1036','C1095','C2051','C1218','C1894','C2483','C1502','C1988']\n",
        "for code in train_err:\n",
        "  idx = train[train['단지코드']==code].index\n",
        "  train=train.drop(idx)"
      ],
      "execution_count": 34,
      "outputs": []
    },
    {
      "cell_type": "code",
      "metadata": {
        "id": "U6-h7X1R1OsF"
      },
      "source": [
        "#결측치\n",
        "train.loc[train.임대보증금=='-', '임대보증금'] = np.nan\n",
        "test.loc[test.임대보증금=='-', '임대보증금'] = np.nan\n",
        "train['임대보증금'] = train['임대보증금'].astype(float)\n",
        "test['임대보증금'] = test['임대보증금'].astype(float)\n",
        "\n",
        "train.loc[train.임대료=='-', '임대료'] = np.nan\n",
        "test.loc[test.임대료=='-', '임대료'] = np.nan\n",
        "train['임대료'] = train['임대료'].astype(float)\n",
        "test['임대료'] = test['임대료'].astype(float)\n",
        "\n",
        "train[['임대보증금', '임대료']] = train[['임대보증금', '임대료']].fillna(0)\n",
        "test[['임대보증금', '임대료']] = test[['임대보증금', '임대료']].fillna(0)\n",
        "\n",
        "cols = ['도보 10분거리 내 지하철역 수(환승노선 수 반영)', '도보 10분거리 내 버스정류장 수']\n",
        "train[cols] = train[cols].fillna(0)\n",
        "test[cols] = test[cols].fillna(0)\n",
        "\n",
        "#### (3) 자격유형\n",
        "\n",
        "test.loc[test.단지코드.isin(['C2411']) & test.자격유형.isnull(), '자격유형'] = 'A'\n",
        "test.loc[test.단지코드.isin(['C2253']) & test.자격유형.isnull(), '자격유형'] = 'C'\n",
        "\n",
        "train = train.drop_duplicates()\n",
        "test = test.drop_duplicates()\n",
        "\n",
        "#단지별로 하나의 값을 가지는 컬럼들\n",
        "unique_cols = ['총세대수', '지역', '공가수', \n",
        "               '도보 10분거리 내 지하철역 수(환승노선 수 반영)',\n",
        "               '도보 10분거리 내 버스정류장 수',\n",
        "               '단지내주차면수', '등록차량수']\n",
        "#train 단지코드별 집계(위 컬럼들만 가지고)\n",
        "train_agg = train.set_index('단지코드')[unique_cols].drop_duplicates()\n",
        "#test 단지코드별 집계(등록차량수 제거)\n",
        "test_agg = test.set_index('단지코드')[[col for col in unique_cols if col!='등록차량수']].drop_duplicates()\n",
        "\n",
        "\n",
        "def reshape_cat_features(data, cast_col, value_col):\n",
        "    res = data.drop_duplicates(['단지코드', cast_col]).assign(counter=1).pivot(index='단지코드', columns=cast_col, values=value_col).fillna(0)\n",
        "    res.columns.name = None\n",
        "    res = res.rename(columns={col:cast_col+'_'+col for col in res.columns})\n",
        "    return res\n",
        "\n",
        "train.loc[train.공급유형.isin(['공공임대(5년)', '공공분양', '공공임대(10년)', '공공임대(분납)']), '공급유형'] = '공공임대(5년/10년/분납/분양)'\n",
        "test.loc[test.공급유형.isin(['공공임대(5년)', '공공분양', '공공임대(10년)', '공공임대(분납)']), '공급유형'] = '공공임대(5년/10년/분납/분양)'\n",
        "train.loc[train.공급유형.isin(['장기전세', '국민임대']), '공급유형'] = '국민임대/장기전세'\n",
        "test.loc[test.공급유형.isin(['장기전세', '국민임대']), '공급유형'] = '국민임대/장기전세'\n",
        "\n",
        "train.loc[train.자격유형.isin(['J', 'L', 'K', 'N', 'M', 'O']), '자격유형'] = '행복주택_공급대상'\n",
        "test.loc[test.자격유형.isin(['J', 'L', 'K', 'N', 'M', 'O']), '자격유형'] = '행복주택_공급대상'\n",
        "\n",
        "train.loc[train.자격유형.isin(['H', 'B', 'E', 'G']), '자격유형'] = '국민임대/장기전세_공급대상'\n",
        "test.loc[test.자격유형.isin(['H', 'B', 'E', 'G']), '자격유형'] = '국민임대/장기전세_공급대상'\n",
        "\n",
        "train.loc[train.자격유형.isin(['C', 'I', 'F']), '자격유형'] = '영구임대_공급대상'\n",
        "test.loc[test.자격유형.isin(['C', 'I', 'F']), '자격유형'] = '영구임대_공급대상'\n",
        "\n",
        "X_train = pd.concat([train_agg,\n",
        "                       reshape_cat_features(data=train, cast_col='임대건물구분', value_col='counter'),\n",
        "                       reshape_cat_features(data=train, cast_col='공급유형', value_col='counter'),\n",
        "                       reshape_cat_features(data=train, cast_col='자격유형', value_col='counter')], axis=1)\n",
        "\n",
        "X_test = pd.concat([test_agg,\n",
        "                       reshape_cat_features(data=test, cast_col='임대건물구분', value_col='counter'),\n",
        "                       reshape_cat_features(data=test, cast_col='공급유형', value_col='counter'),\n",
        "                       reshape_cat_features(data=test, cast_col='자격유형', value_col='counter')], axis=1)"
      ],
      "execution_count": 35,
      "outputs": []
    },
    {
      "cell_type": "code",
      "metadata": {
        "id": "RzP9S1Kg1Rnw",
        "colab": {
          "base_uri": "https://localhost:8080/",
          "height": 261
        },
        "outputId": "0b896d6c-23ac-4c1b-aab0-3703456a18b4"
      },
      "source": [
        "#전용면적, 전용면적별세대수, 임대보증금, 임대료 없음\n",
        "X_train.head(3)"
      ],
      "execution_count": 36,
      "outputs": [
        {
          "output_type": "execute_result",
          "data": {
            "text/html": [
              "<div>\n",
              "<style scoped>\n",
              "    .dataframe tbody tr th:only-of-type {\n",
              "        vertical-align: middle;\n",
              "    }\n",
              "\n",
              "    .dataframe tbody tr th {\n",
              "        vertical-align: top;\n",
              "    }\n",
              "\n",
              "    .dataframe thead th {\n",
              "        text-align: right;\n",
              "    }\n",
              "</style>\n",
              "<table border=\"1\" class=\"dataframe\">\n",
              "  <thead>\n",
              "    <tr style=\"text-align: right;\">\n",
              "      <th></th>\n",
              "      <th>총세대수</th>\n",
              "      <th>지역</th>\n",
              "      <th>공가수</th>\n",
              "      <th>도보 10분거리 내 지하철역 수(환승노선 수 반영)</th>\n",
              "      <th>도보 10분거리 내 버스정류장 수</th>\n",
              "      <th>단지내주차면수</th>\n",
              "      <th>등록차량수</th>\n",
              "      <th>임대건물구분_상가</th>\n",
              "      <th>임대건물구분_아파트</th>\n",
              "      <th>공급유형_공공임대(50년)</th>\n",
              "      <th>공급유형_공공임대(5년/10년/분납/분양)</th>\n",
              "      <th>공급유형_국민임대/장기전세</th>\n",
              "      <th>공급유형_영구임대</th>\n",
              "      <th>공급유형_임대상가</th>\n",
              "      <th>공급유형_행복주택</th>\n",
              "      <th>자격유형_A</th>\n",
              "      <th>자격유형_D</th>\n",
              "      <th>자격유형_국민임대/장기전세_공급대상</th>\n",
              "      <th>자격유형_영구임대_공급대상</th>\n",
              "      <th>자격유형_행복주택_공급대상</th>\n",
              "    </tr>\n",
              "  </thead>\n",
              "  <tbody>\n",
              "    <tr>\n",
              "      <th>C2515</th>\n",
              "      <td>545</td>\n",
              "      <td>경상남도</td>\n",
              "      <td>17.0</td>\n",
              "      <td>0.0</td>\n",
              "      <td>3.0</td>\n",
              "      <td>624.0</td>\n",
              "      <td>205.0</td>\n",
              "      <td>0.0</td>\n",
              "      <td>1.0</td>\n",
              "      <td>0.0</td>\n",
              "      <td>0.0</td>\n",
              "      <td>1.0</td>\n",
              "      <td>0.0</td>\n",
              "      <td>0.0</td>\n",
              "      <td>0.0</td>\n",
              "      <td>1.0</td>\n",
              "      <td>0.0</td>\n",
              "      <td>0.0</td>\n",
              "      <td>0.0</td>\n",
              "      <td>0.0</td>\n",
              "    </tr>\n",
              "    <tr>\n",
              "      <th>C1407</th>\n",
              "      <td>1216</td>\n",
              "      <td>대전광역시</td>\n",
              "      <td>13.0</td>\n",
              "      <td>1.0</td>\n",
              "      <td>1.0</td>\n",
              "      <td>1285.0</td>\n",
              "      <td>1064.0</td>\n",
              "      <td>0.0</td>\n",
              "      <td>1.0</td>\n",
              "      <td>0.0</td>\n",
              "      <td>0.0</td>\n",
              "      <td>1.0</td>\n",
              "      <td>0.0</td>\n",
              "      <td>0.0</td>\n",
              "      <td>0.0</td>\n",
              "      <td>1.0</td>\n",
              "      <td>0.0</td>\n",
              "      <td>0.0</td>\n",
              "      <td>0.0</td>\n",
              "      <td>0.0</td>\n",
              "    </tr>\n",
              "    <tr>\n",
              "      <th>C1945</th>\n",
              "      <td>755</td>\n",
              "      <td>경기도</td>\n",
              "      <td>6.0</td>\n",
              "      <td>1.0</td>\n",
              "      <td>3.0</td>\n",
              "      <td>734.0</td>\n",
              "      <td>730.0</td>\n",
              "      <td>0.0</td>\n",
              "      <td>1.0</td>\n",
              "      <td>0.0</td>\n",
              "      <td>0.0</td>\n",
              "      <td>1.0</td>\n",
              "      <td>0.0</td>\n",
              "      <td>0.0</td>\n",
              "      <td>0.0</td>\n",
              "      <td>0.0</td>\n",
              "      <td>0.0</td>\n",
              "      <td>1.0</td>\n",
              "      <td>0.0</td>\n",
              "      <td>0.0</td>\n",
              "    </tr>\n",
              "  </tbody>\n",
              "</table>\n",
              "</div>"
            ],
            "text/plain": [
              "       총세대수     지역   공가수  ...  자격유형_국민임대/장기전세_공급대상  자격유형_영구임대_공급대상  자격유형_행복주택_공급대상\n",
              "C2515   545   경상남도  17.0  ...                  0.0             0.0             0.0\n",
              "C1407  1216  대전광역시  13.0  ...                  0.0             0.0             0.0\n",
              "C1945   755    경기도   6.0  ...                  1.0             0.0             0.0\n",
              "\n",
              "[3 rows x 20 columns]"
            ]
          },
          "metadata": {
            "tags": []
          },
          "execution_count": 36
        }
      ]
    },
    {
      "cell_type": "code",
      "metadata": {
        "id": "TbEl0Zhm1VK4",
        "colab": {
          "base_uri": "https://localhost:8080/",
          "height": 402
        },
        "outputId": "63dcc1ab-d299-4dab-9c9a-295a7922e3db"
      },
      "source": [
        "X_train.describe()"
      ],
      "execution_count": 37,
      "outputs": [
        {
          "output_type": "execute_result",
          "data": {
            "text/html": [
              "<div>\n",
              "<style scoped>\n",
              "    .dataframe tbody tr th:only-of-type {\n",
              "        vertical-align: middle;\n",
              "    }\n",
              "\n",
              "    .dataframe tbody tr th {\n",
              "        vertical-align: top;\n",
              "    }\n",
              "\n",
              "    .dataframe thead th {\n",
              "        text-align: right;\n",
              "    }\n",
              "</style>\n",
              "<table border=\"1\" class=\"dataframe\">\n",
              "  <thead>\n",
              "    <tr style=\"text-align: right;\">\n",
              "      <th></th>\n",
              "      <th>총세대수</th>\n",
              "      <th>공가수</th>\n",
              "      <th>도보 10분거리 내 지하철역 수(환승노선 수 반영)</th>\n",
              "      <th>도보 10분거리 내 버스정류장 수</th>\n",
              "      <th>단지내주차면수</th>\n",
              "      <th>등록차량수</th>\n",
              "      <th>임대건물구분_상가</th>\n",
              "      <th>임대건물구분_아파트</th>\n",
              "      <th>공급유형_공공임대(50년)</th>\n",
              "      <th>공급유형_공공임대(5년/10년/분납/분양)</th>\n",
              "      <th>공급유형_국민임대/장기전세</th>\n",
              "      <th>공급유형_영구임대</th>\n",
              "      <th>공급유형_임대상가</th>\n",
              "      <th>공급유형_행복주택</th>\n",
              "      <th>자격유형_A</th>\n",
              "      <th>자격유형_D</th>\n",
              "      <th>자격유형_국민임대/장기전세_공급대상</th>\n",
              "      <th>자격유형_영구임대_공급대상</th>\n",
              "      <th>자격유형_행복주택_공급대상</th>\n",
              "    </tr>\n",
              "  </thead>\n",
              "  <tbody>\n",
              "    <tr>\n",
              "      <th>count</th>\n",
              "      <td>411.000000</td>\n",
              "      <td>411.000000</td>\n",
              "      <td>411.000000</td>\n",
              "      <td>411.000000</td>\n",
              "      <td>411.000000</td>\n",
              "      <td>411.000000</td>\n",
              "      <td>411.000000</td>\n",
              "      <td>411.0</td>\n",
              "      <td>411.000000</td>\n",
              "      <td>411.000000</td>\n",
              "      <td>411.000000</td>\n",
              "      <td>411.000000</td>\n",
              "      <td>411.000000</td>\n",
              "      <td>411.00000</td>\n",
              "      <td>411.000000</td>\n",
              "      <td>411.000000</td>\n",
              "      <td>411.000000</td>\n",
              "      <td>411.000000</td>\n",
              "      <td>411.00000</td>\n",
              "    </tr>\n",
              "    <tr>\n",
              "      <th>mean</th>\n",
              "      <td>722.347932</td>\n",
              "      <td>13.416058</td>\n",
              "      <td>0.124088</td>\n",
              "      <td>3.708029</td>\n",
              "      <td>581.676399</td>\n",
              "      <td>564.318735</td>\n",
              "      <td>0.080292</td>\n",
              "      <td>1.0</td>\n",
              "      <td>0.026764</td>\n",
              "      <td>0.085158</td>\n",
              "      <td>0.746959</td>\n",
              "      <td>0.136253</td>\n",
              "      <td>0.080292</td>\n",
              "      <td>0.07056</td>\n",
              "      <td>0.783455</td>\n",
              "      <td>0.082725</td>\n",
              "      <td>0.119221</td>\n",
              "      <td>0.133820</td>\n",
              "      <td>0.07056</td>\n",
              "    </tr>\n",
              "    <tr>\n",
              "      <th>std</th>\n",
              "      <td>407.850156</td>\n",
              "      <td>10.325419</td>\n",
              "      <td>0.384681</td>\n",
              "      <td>2.836592</td>\n",
              "      <td>360.180869</td>\n",
              "      <td>386.819089</td>\n",
              "      <td>0.272076</td>\n",
              "      <td>0.0</td>\n",
              "      <td>0.161590</td>\n",
              "      <td>0.279457</td>\n",
              "      <td>0.435284</td>\n",
              "      <td>0.343475</td>\n",
              "      <td>0.272076</td>\n",
              "      <td>0.25640</td>\n",
              "      <td>0.412392</td>\n",
              "      <td>0.275802</td>\n",
              "      <td>0.324444</td>\n",
              "      <td>0.340874</td>\n",
              "      <td>0.25640</td>\n",
              "    </tr>\n",
              "    <tr>\n",
              "      <th>min</th>\n",
              "      <td>26.000000</td>\n",
              "      <td>0.000000</td>\n",
              "      <td>0.000000</td>\n",
              "      <td>0.000000</td>\n",
              "      <td>13.000000</td>\n",
              "      <td>13.000000</td>\n",
              "      <td>0.000000</td>\n",
              "      <td>1.0</td>\n",
              "      <td>0.000000</td>\n",
              "      <td>0.000000</td>\n",
              "      <td>0.000000</td>\n",
              "      <td>0.000000</td>\n",
              "      <td>0.000000</td>\n",
              "      <td>0.00000</td>\n",
              "      <td>0.000000</td>\n",
              "      <td>0.000000</td>\n",
              "      <td>0.000000</td>\n",
              "      <td>0.000000</td>\n",
              "      <td>0.00000</td>\n",
              "    </tr>\n",
              "    <tr>\n",
              "      <th>25%</th>\n",
              "      <td>447.500000</td>\n",
              "      <td>5.000000</td>\n",
              "      <td>0.000000</td>\n",
              "      <td>2.000000</td>\n",
              "      <td>317.500000</td>\n",
              "      <td>286.000000</td>\n",
              "      <td>0.000000</td>\n",
              "      <td>1.0</td>\n",
              "      <td>0.000000</td>\n",
              "      <td>0.000000</td>\n",
              "      <td>0.000000</td>\n",
              "      <td>0.000000</td>\n",
              "      <td>0.000000</td>\n",
              "      <td>0.00000</td>\n",
              "      <td>1.000000</td>\n",
              "      <td>0.000000</td>\n",
              "      <td>0.000000</td>\n",
              "      <td>0.000000</td>\n",
              "      <td>0.00000</td>\n",
              "    </tr>\n",
              "    <tr>\n",
              "      <th>50%</th>\n",
              "      <td>632.000000</td>\n",
              "      <td>13.000000</td>\n",
              "      <td>0.000000</td>\n",
              "      <td>3.000000</td>\n",
              "      <td>515.000000</td>\n",
              "      <td>505.000000</td>\n",
              "      <td>0.000000</td>\n",
              "      <td>1.0</td>\n",
              "      <td>0.000000</td>\n",
              "      <td>0.000000</td>\n",
              "      <td>1.000000</td>\n",
              "      <td>0.000000</td>\n",
              "      <td>0.000000</td>\n",
              "      <td>0.00000</td>\n",
              "      <td>1.000000</td>\n",
              "      <td>0.000000</td>\n",
              "      <td>0.000000</td>\n",
              "      <td>0.000000</td>\n",
              "      <td>0.00000</td>\n",
              "    </tr>\n",
              "    <tr>\n",
              "      <th>75%</th>\n",
              "      <td>922.000000</td>\n",
              "      <td>20.000000</td>\n",
              "      <td>0.000000</td>\n",
              "      <td>4.000000</td>\n",
              "      <td>776.000000</td>\n",
              "      <td>753.000000</td>\n",
              "      <td>0.000000</td>\n",
              "      <td>1.0</td>\n",
              "      <td>0.000000</td>\n",
              "      <td>0.000000</td>\n",
              "      <td>1.000000</td>\n",
              "      <td>0.000000</td>\n",
              "      <td>0.000000</td>\n",
              "      <td>0.00000</td>\n",
              "      <td>1.000000</td>\n",
              "      <td>0.000000</td>\n",
              "      <td>0.000000</td>\n",
              "      <td>0.000000</td>\n",
              "      <td>0.00000</td>\n",
              "    </tr>\n",
              "    <tr>\n",
              "      <th>max</th>\n",
              "      <td>2568.000000</td>\n",
              "      <td>55.000000</td>\n",
              "      <td>3.000000</td>\n",
              "      <td>20.000000</td>\n",
              "      <td>1798.000000</td>\n",
              "      <td>2550.000000</td>\n",
              "      <td>1.000000</td>\n",
              "      <td>1.0</td>\n",
              "      <td>1.000000</td>\n",
              "      <td>1.000000</td>\n",
              "      <td>1.000000</td>\n",
              "      <td>1.000000</td>\n",
              "      <td>1.000000</td>\n",
              "      <td>1.00000</td>\n",
              "      <td>1.000000</td>\n",
              "      <td>1.000000</td>\n",
              "      <td>1.000000</td>\n",
              "      <td>1.000000</td>\n",
              "      <td>1.00000</td>\n",
              "    </tr>\n",
              "  </tbody>\n",
              "</table>\n",
              "</div>"
            ],
            "text/plain": [
              "              총세대수         공가수  ...  자격유형_영구임대_공급대상  자격유형_행복주택_공급대상\n",
              "count   411.000000  411.000000  ...      411.000000       411.00000\n",
              "mean    722.347932   13.416058  ...        0.133820         0.07056\n",
              "std     407.850156   10.325419  ...        0.340874         0.25640\n",
              "min      26.000000    0.000000  ...        0.000000         0.00000\n",
              "25%     447.500000    5.000000  ...        0.000000         0.00000\n",
              "50%     632.000000   13.000000  ...        0.000000         0.00000\n",
              "75%     922.000000   20.000000  ...        0.000000         0.00000\n",
              "max    2568.000000   55.000000  ...        1.000000         1.00000\n",
              "\n",
              "[8 rows x 19 columns]"
            ]
          },
          "metadata": {
            "tags": []
          },
          "execution_count": 37
        }
      ]
    },
    {
      "cell_type": "code",
      "metadata": {
        "id": "zLiwlzNJ1VW-"
      },
      "source": [
        "#모든데이터가 1로 동일하므로 제거 -> 모든 단지에는 아파트가 포함되어 있다는 의미\n",
        "X_train = X_train.drop(columns = ['임대건물구분_아파트'])\n",
        "X_test = X_test.drop(columns = ['임대건물구분_아파트'])"
      ],
      "execution_count": 38,
      "outputs": []
    },
    {
      "cell_type": "code",
      "metadata": {
        "id": "1ABqgAlo1Xo0",
        "colab": {
          "base_uri": "https://localhost:8080/",
          "height": 287
        },
        "outputId": "ba162f1b-82f4-4292-b71b-66f58443757c"
      },
      "source": [
        "display('Train Data')\n",
        "display(X_train.groupby(['도보 10분거리 내 지하철역 수(환승노선 수 반영)'])['총세대수'].agg('count'))\n",
        "display('='*50)\n",
        "display('Test Data')\n",
        "display(X_test.groupby(['도보 10분거리 내 지하철역 수(환승노선 수 반영)'])['총세대수'].agg('count'))\n",
        "display('='*50)"
      ],
      "execution_count": 39,
      "outputs": [
        {
          "output_type": "display_data",
          "data": {
            "application/vnd.google.colaboratory.intrinsic+json": {
              "type": "string"
            },
            "text/plain": [
              "'Train Data'"
            ]
          },
          "metadata": {
            "tags": []
          }
        },
        {
          "output_type": "display_data",
          "data": {
            "text/plain": [
              "도보 10분거리 내 지하철역 수(환승노선 수 반영)\n",
              "0.0    367\n",
              "1.0     38\n",
              "2.0      5\n",
              "3.0      1\n",
              "Name: 총세대수, dtype: int64"
            ]
          },
          "metadata": {
            "tags": []
          }
        },
        {
          "output_type": "display_data",
          "data": {
            "application/vnd.google.colaboratory.intrinsic+json": {
              "type": "string"
            },
            "text/plain": [
              "'=================================================='"
            ]
          },
          "metadata": {
            "tags": []
          }
        },
        {
          "output_type": "display_data",
          "data": {
            "application/vnd.google.colaboratory.intrinsic+json": {
              "type": "string"
            },
            "text/plain": [
              "'Test Data'"
            ]
          },
          "metadata": {
            "tags": []
          }
        },
        {
          "output_type": "display_data",
          "data": {
            "text/plain": [
              "도보 10분거리 내 지하철역 수(환승노선 수 반영)\n",
              "0.0    139\n",
              "1.0      8\n",
              "2.0      3\n",
              "Name: 총세대수, dtype: int64"
            ]
          },
          "metadata": {
            "tags": []
          }
        },
        {
          "output_type": "display_data",
          "data": {
            "application/vnd.google.colaboratory.intrinsic+json": {
              "type": "string"
            },
            "text/plain": [
              "'=================================================='"
            ]
          },
          "metadata": {
            "tags": []
          }
        }
      ]
    },
    {
      "cell_type": "code",
      "metadata": {
        "id": "6jIX0OFO1aph",
        "colab": {
          "base_uri": "https://localhost:8080/",
          "height": 125
        },
        "outputId": "e79743a4-e42b-4877-cde6-f4c563c2f661"
      },
      "source": [
        "display('After Engineering')\n",
        "X_train = X_train[X_train['도보 10분거리 내 지하철역 수(환승노선 수 반영)'] != 3]\n",
        "display(X_train.groupby(['도보 10분거리 내 지하철역 수(환승노선 수 반영)'])['총세대수'].agg('count'))"
      ],
      "execution_count": 40,
      "outputs": [
        {
          "output_type": "display_data",
          "data": {
            "application/vnd.google.colaboratory.intrinsic+json": {
              "type": "string"
            },
            "text/plain": [
              "'After Engineering'"
            ]
          },
          "metadata": {
            "tags": []
          }
        },
        {
          "output_type": "display_data",
          "data": {
            "text/plain": [
              "도보 10분거리 내 지하철역 수(환승노선 수 반영)\n",
              "0.0    367\n",
              "1.0     38\n",
              "2.0      5\n",
              "Name: 총세대수, dtype: int64"
            ]
          },
          "metadata": {
            "tags": []
          }
        }
      ]
    },
    {
      "cell_type": "code",
      "metadata": {
        "colab": {
          "base_uri": "https://localhost:8080/"
        },
        "id": "Thcqxb8V1bxK",
        "outputId": "24450506-46f3-4191-efda-a9c2c675c379"
      },
      "source": [
        "%%time\n",
        "encoding_features = ['지역', '도보 10분거리 내 지하철역 수(환승노선 수 반영)']\n",
        "for f in encoding_features:\n",
        "    mapping = X_train.groupby([f])['등록차량수'].agg(['mean','median','std'])\n",
        "    mapping_values = []\n",
        "    for l in X_train[f].values:\n",
        "        mapping_values.extend([mapping.loc[l].values])\n",
        "    bincount = pd.DataFrame(mapping_values, columns = [f+'_mean', f+'_median', f+'_std', ], index = X_train.index)\n",
        "    X_train = pd.concat([X_train,bincount], axis= 1).drop(columns = [f])\n",
        "\n",
        "    mapping_values = []\n",
        "    for l in X_test[f].values:\n",
        "        mapping_values.extend([mapping.loc[l].values])\n",
        "    bincount = pd.DataFrame(mapping_values, columns = [f+'_mean', f+'_median', f+'_std', ], index = X_test.index)\n",
        "    X_test = pd.concat([X_test,bincount], axis= 1).drop(columns = [f])"
      ],
      "execution_count": 44,
      "outputs": [
        {
          "output_type": "stream",
          "text": [
            "CPU times: user 125 ms, sys: 394 µs, total: 126 ms\n",
            "Wall time: 126 ms\n"
          ],
          "name": "stdout"
        }
      ]
    },
    {
      "cell_type": "code",
      "metadata": {
        "colab": {
          "base_uri": "https://localhost:8080/",
          "height": 521
        },
        "id": "bUte3fg3gJ17",
        "outputId": "18c75987-557b-4765-c6a9-b3d5f92b3e52"
      },
      "source": [
        "X_test"
      ],
      "execution_count": 46,
      "outputs": [
        {
          "output_type": "execute_result",
          "data": {
            "text/html": [
              "<div>\n",
              "<style scoped>\n",
              "    .dataframe tbody tr th:only-of-type {\n",
              "        vertical-align: middle;\n",
              "    }\n",
              "\n",
              "    .dataframe tbody tr th {\n",
              "        vertical-align: top;\n",
              "    }\n",
              "\n",
              "    .dataframe thead th {\n",
              "        text-align: right;\n",
              "    }\n",
              "</style>\n",
              "<table border=\"1\" class=\"dataframe\">\n",
              "  <thead>\n",
              "    <tr style=\"text-align: right;\">\n",
              "      <th></th>\n",
              "      <th>총세대수</th>\n",
              "      <th>공가수</th>\n",
              "      <th>도보 10분거리 내 버스정류장 수</th>\n",
              "      <th>단지내주차면수</th>\n",
              "      <th>임대건물구분_상가</th>\n",
              "      <th>공급유형_공공임대(50년)</th>\n",
              "      <th>공급유형_공공임대(5년/10년/분납/분양)</th>\n",
              "      <th>공급유형_국민임대/장기전세</th>\n",
              "      <th>공급유형_영구임대</th>\n",
              "      <th>공급유형_임대상가</th>\n",
              "      <th>공급유형_행복주택</th>\n",
              "      <th>자격유형_A</th>\n",
              "      <th>자격유형_D</th>\n",
              "      <th>자격유형_국민임대/장기전세_공급대상</th>\n",
              "      <th>자격유형_영구임대_공급대상</th>\n",
              "      <th>자격유형_행복주택_공급대상</th>\n",
              "      <th>지역_mean</th>\n",
              "      <th>지역_median</th>\n",
              "      <th>지역_std</th>\n",
              "      <th>도보 10분거리 내 지하철역 수(환승노선 수 반영)_mean</th>\n",
              "      <th>도보 10분거리 내 지하철역 수(환승노선 수 반영)_median</th>\n",
              "      <th>도보 10분거리 내 지하철역 수(환승노선 수 반영)_std</th>\n",
              "    </tr>\n",
              "  </thead>\n",
              "  <tbody>\n",
              "    <tr>\n",
              "      <th>C1072</th>\n",
              "      <td>754</td>\n",
              "      <td>14.0</td>\n",
              "      <td>2.0</td>\n",
              "      <td>683.0</td>\n",
              "      <td>0.0</td>\n",
              "      <td>0.0</td>\n",
              "      <td>0.0</td>\n",
              "      <td>1.0</td>\n",
              "      <td>0.0</td>\n",
              "      <td>0.0</td>\n",
              "      <td>0.0</td>\n",
              "      <td>1.0</td>\n",
              "      <td>0.0</td>\n",
              "      <td>1.0</td>\n",
              "      <td>0.0</td>\n",
              "      <td>0.0</td>\n",
              "      <td>721.523810</td>\n",
              "      <td>654.5</td>\n",
              "      <td>410.981883</td>\n",
              "      <td>565.038147</td>\n",
              "      <td>503.0</td>\n",
              "      <td>388.446631</td>\n",
              "    </tr>\n",
              "    <tr>\n",
              "      <th>C1128</th>\n",
              "      <td>1354</td>\n",
              "      <td>9.0</td>\n",
              "      <td>3.0</td>\n",
              "      <td>1216.0</td>\n",
              "      <td>0.0</td>\n",
              "      <td>0.0</td>\n",
              "      <td>0.0</td>\n",
              "      <td>1.0</td>\n",
              "      <td>0.0</td>\n",
              "      <td>0.0</td>\n",
              "      <td>0.0</td>\n",
              "      <td>1.0</td>\n",
              "      <td>0.0</td>\n",
              "      <td>1.0</td>\n",
              "      <td>0.0</td>\n",
              "      <td>0.0</td>\n",
              "      <td>721.523810</td>\n",
              "      <td>654.5</td>\n",
              "      <td>410.981883</td>\n",
              "      <td>565.038147</td>\n",
              "      <td>503.0</td>\n",
              "      <td>388.446631</td>\n",
              "    </tr>\n",
              "    <tr>\n",
              "      <th>C1456</th>\n",
              "      <td>619</td>\n",
              "      <td>18.0</td>\n",
              "      <td>16.0</td>\n",
              "      <td>547.0</td>\n",
              "      <td>0.0</td>\n",
              "      <td>0.0</td>\n",
              "      <td>0.0</td>\n",
              "      <td>1.0</td>\n",
              "      <td>0.0</td>\n",
              "      <td>0.0</td>\n",
              "      <td>0.0</td>\n",
              "      <td>1.0</td>\n",
              "      <td>0.0</td>\n",
              "      <td>0.0</td>\n",
              "      <td>0.0</td>\n",
              "      <td>0.0</td>\n",
              "      <td>486.958333</td>\n",
              "      <td>440.0</td>\n",
              "      <td>322.242210</td>\n",
              "      <td>565.038147</td>\n",
              "      <td>503.0</td>\n",
              "      <td>388.446631</td>\n",
              "    </tr>\n",
              "    <tr>\n",
              "      <th>C1840</th>\n",
              "      <td>593</td>\n",
              "      <td>7.0</td>\n",
              "      <td>3.0</td>\n",
              "      <td>543.0</td>\n",
              "      <td>0.0</td>\n",
              "      <td>0.0</td>\n",
              "      <td>0.0</td>\n",
              "      <td>1.0</td>\n",
              "      <td>0.0</td>\n",
              "      <td>0.0</td>\n",
              "      <td>0.0</td>\n",
              "      <td>1.0</td>\n",
              "      <td>0.0</td>\n",
              "      <td>0.0</td>\n",
              "      <td>0.0</td>\n",
              "      <td>0.0</td>\n",
              "      <td>474.095238</td>\n",
              "      <td>415.0</td>\n",
              "      <td>280.481177</td>\n",
              "      <td>565.038147</td>\n",
              "      <td>503.0</td>\n",
              "      <td>388.446631</td>\n",
              "    </tr>\n",
              "    <tr>\n",
              "      <th>C1332</th>\n",
              "      <td>1297</td>\n",
              "      <td>11.0</td>\n",
              "      <td>2.0</td>\n",
              "      <td>1112.0</td>\n",
              "      <td>0.0</td>\n",
              "      <td>0.0</td>\n",
              "      <td>0.0</td>\n",
              "      <td>1.0</td>\n",
              "      <td>0.0</td>\n",
              "      <td>0.0</td>\n",
              "      <td>0.0</td>\n",
              "      <td>0.0</td>\n",
              "      <td>0.0</td>\n",
              "      <td>1.0</td>\n",
              "      <td>0.0</td>\n",
              "      <td>0.0</td>\n",
              "      <td>721.523810</td>\n",
              "      <td>654.5</td>\n",
              "      <td>410.981883</td>\n",
              "      <td>565.038147</td>\n",
              "      <td>503.0</td>\n",
              "      <td>388.446631</td>\n",
              "    </tr>\n",
              "    <tr>\n",
              "      <th>...</th>\n",
              "      <td>...</td>\n",
              "      <td>...</td>\n",
              "      <td>...</td>\n",
              "      <td>...</td>\n",
              "      <td>...</td>\n",
              "      <td>...</td>\n",
              "      <td>...</td>\n",
              "      <td>...</td>\n",
              "      <td>...</td>\n",
              "      <td>...</td>\n",
              "      <td>...</td>\n",
              "      <td>...</td>\n",
              "      <td>...</td>\n",
              "      <td>...</td>\n",
              "      <td>...</td>\n",
              "      <td>...</td>\n",
              "      <td>...</td>\n",
              "      <td>...</td>\n",
              "      <td>...</td>\n",
              "      <td>...</td>\n",
              "      <td>...</td>\n",
              "      <td>...</td>\n",
              "    </tr>\n",
              "    <tr>\n",
              "      <th>C2456</th>\n",
              "      <td>349</td>\n",
              "      <td>17.0</td>\n",
              "      <td>4.0</td>\n",
              "      <td>270.0</td>\n",
              "      <td>0.0</td>\n",
              "      <td>0.0</td>\n",
              "      <td>0.0</td>\n",
              "      <td>1.0</td>\n",
              "      <td>0.0</td>\n",
              "      <td>0.0</td>\n",
              "      <td>0.0</td>\n",
              "      <td>0.0</td>\n",
              "      <td>0.0</td>\n",
              "      <td>1.0</td>\n",
              "      <td>0.0</td>\n",
              "      <td>0.0</td>\n",
              "      <td>371.428571</td>\n",
              "      <td>328.5</td>\n",
              "      <td>275.553349</td>\n",
              "      <td>565.038147</td>\n",
              "      <td>503.0</td>\n",
              "      <td>388.446631</td>\n",
              "    </tr>\n",
              "    <tr>\n",
              "      <th>C1266</th>\n",
              "      <td>596</td>\n",
              "      <td>35.0</td>\n",
              "      <td>1.0</td>\n",
              "      <td>593.0</td>\n",
              "      <td>0.0</td>\n",
              "      <td>0.0</td>\n",
              "      <td>0.0</td>\n",
              "      <td>1.0</td>\n",
              "      <td>0.0</td>\n",
              "      <td>0.0</td>\n",
              "      <td>0.0</td>\n",
              "      <td>0.0</td>\n",
              "      <td>0.0</td>\n",
              "      <td>1.0</td>\n",
              "      <td>0.0</td>\n",
              "      <td>0.0</td>\n",
              "      <td>552.533333</td>\n",
              "      <td>539.5</td>\n",
              "      <td>284.790272</td>\n",
              "      <td>565.038147</td>\n",
              "      <td>503.0</td>\n",
              "      <td>388.446631</td>\n",
              "    </tr>\n",
              "    <tr>\n",
              "      <th>C2152</th>\n",
              "      <td>120</td>\n",
              "      <td>9.0</td>\n",
              "      <td>1.0</td>\n",
              "      <td>40.0</td>\n",
              "      <td>0.0</td>\n",
              "      <td>0.0</td>\n",
              "      <td>0.0</td>\n",
              "      <td>0.0</td>\n",
              "      <td>1.0</td>\n",
              "      <td>0.0</td>\n",
              "      <td>0.0</td>\n",
              "      <td>0.0</td>\n",
              "      <td>0.0</td>\n",
              "      <td>0.0</td>\n",
              "      <td>1.0</td>\n",
              "      <td>0.0</td>\n",
              "      <td>385.081081</td>\n",
              "      <td>305.0</td>\n",
              "      <td>247.867951</td>\n",
              "      <td>565.038147</td>\n",
              "      <td>503.0</td>\n",
              "      <td>388.446631</td>\n",
              "    </tr>\n",
              "    <tr>\n",
              "      <th>C1267</th>\n",
              "      <td>675</td>\n",
              "      <td>38.0</td>\n",
              "      <td>1.0</td>\n",
              "      <td>467.0</td>\n",
              "      <td>0.0</td>\n",
              "      <td>0.0</td>\n",
              "      <td>0.0</td>\n",
              "      <td>1.0</td>\n",
              "      <td>1.0</td>\n",
              "      <td>0.0</td>\n",
              "      <td>1.0</td>\n",
              "      <td>0.0</td>\n",
              "      <td>0.0</td>\n",
              "      <td>1.0</td>\n",
              "      <td>1.0</td>\n",
              "      <td>1.0</td>\n",
              "      <td>470.452830</td>\n",
              "      <td>479.0</td>\n",
              "      <td>322.007678</td>\n",
              "      <td>565.038147</td>\n",
              "      <td>503.0</td>\n",
              "      <td>388.446631</td>\n",
              "    </tr>\n",
              "    <tr>\n",
              "      <th>C2189</th>\n",
              "      <td>382</td>\n",
              "      <td>45.0</td>\n",
              "      <td>2.0</td>\n",
              "      <td>300.0</td>\n",
              "      <td>0.0</td>\n",
              "      <td>0.0</td>\n",
              "      <td>0.0</td>\n",
              "      <td>1.0</td>\n",
              "      <td>0.0</td>\n",
              "      <td>0.0</td>\n",
              "      <td>0.0</td>\n",
              "      <td>0.0</td>\n",
              "      <td>0.0</td>\n",
              "      <td>1.0</td>\n",
              "      <td>0.0</td>\n",
              "      <td>0.0</td>\n",
              "      <td>474.095238</td>\n",
              "      <td>415.0</td>\n",
              "      <td>280.481177</td>\n",
              "      <td>565.038147</td>\n",
              "      <td>503.0</td>\n",
              "      <td>388.446631</td>\n",
              "    </tr>\n",
              "  </tbody>\n",
              "</table>\n",
              "<p>150 rows × 22 columns</p>\n",
              "</div>"
            ],
            "text/plain": [
              "       총세대수  ...  도보 10분거리 내 지하철역 수(환승노선 수 반영)_std\n",
              "C1072   754  ...                        388.446631\n",
              "C1128  1354  ...                        388.446631\n",
              "C1456   619  ...                        388.446631\n",
              "C1840   593  ...                        388.446631\n",
              "C1332  1297  ...                        388.446631\n",
              "...     ...  ...                               ...\n",
              "C2456   349  ...                        388.446631\n",
              "C1266   596  ...                        388.446631\n",
              "C2152   120  ...                        388.446631\n",
              "C1267   675  ...                        388.446631\n",
              "C2189   382  ...                        388.446631\n",
              "\n",
              "[150 rows x 22 columns]"
            ]
          },
          "metadata": {
            "tags": []
          },
          "execution_count": 46
        }
      ]
    },
    {
      "cell_type": "code",
      "metadata": {
        "id": "PoI3SJbS1fEW"
      },
      "source": [
        "scailing_features = ['총세대수',\n",
        "                     '공가수',\n",
        "                     '도보 10분거리 내 버스정류장 수',\n",
        "                     '단지내주차면수',\n",
        "                     '지역_mean', \n",
        "                     '지역_median',\n",
        "                     '지역_std', \n",
        "                     '도보 10분거리 내 지하철역 수(환승노선 수 반영)_mean',\n",
        "                   '도보 10분거리 내 지하철역 수(환승노선 수 반영)_median',\n",
        "                   '도보 10분거리 내 지하철역 수(환승노선 수 반영)_std'\n",
        "                    ]"
      ],
      "execution_count": 45,
      "outputs": []
    },
    {
      "cell_type": "code",
      "metadata": {
        "id": "1IDdtScO1gsf"
      },
      "source": [
        "fig, axes = plt.subplots(2,5, figsize= (12,12))\n",
        "\n",
        "i = 0\n",
        "for f in scailing_features:\n",
        "    c = i % 5\n",
        "    r = i // 5\n",
        "    \n",
        "    axes[r,c].hist(x = f, bins =50, data = X_train)\n",
        "    i += 1\n",
        "plt.show()"
      ],
      "execution_count": null,
      "outputs": []
    },
    {
      "cell_type": "code",
      "metadata": {
        "id": "V2MCFQKZ1h7l"
      },
      "source": [
        "X_train = X_train.iloc[:,:-1]\n",
        "X_test = X_test.iloc[:,:-1]"
      ],
      "execution_count": 51,
      "outputs": []
    },
    {
      "cell_type": "code",
      "metadata": {
        "id": "8oNC_UOA1knO"
      },
      "source": [
        "scaler = RobustScaler()\n",
        "loc_f = [    '지역_mean', \n",
        "             '지역_median',\n",
        "             '지역_std', ]\n",
        "X_train.loc[:, loc_f] = scaler.fit_transform(X_train[loc_f])\n",
        "X_test.loc[:, loc_f] = scaler.transform(X_test[loc_f])"
      ],
      "execution_count": 52,
      "outputs": []
    },
    {
      "cell_type": "code",
      "metadata": {
        "id": "aAlmLDpL1lbx"
      },
      "source": [
        "scailing_features = ['총세대수',\n",
        "                     '공가수',\n",
        "                     '도보 10분거리 내 버스정류장 수',\n",
        "                     '단지내주차면수',\n",
        "                     '도보 10분거리 내 지하철역 수(환승노선 수 반영)_mean',\n",
        "                       '도보 10분거리 내 지하철역 수(환승노선 수 반영)_median',\n",
        "                    ]\n",
        "\n",
        "scaler = StandardScaler()\n",
        "X_train.loc[:, scailing_features] = scaler.fit_transform(X_train[scailing_features])\n",
        "X_test.loc[:, scailing_features] = scaler.transform(X_test[scailing_features])"
      ],
      "execution_count": 54,
      "outputs": []
    },
    {
      "cell_type": "code",
      "metadata": {
        "id": "ccPqkiQ5izVD"
      },
      "source": [
        "X = X_train.drop(columns = ['등록차량수'])\n",
        "y = X_train['등록차량수']"
      ],
      "execution_count": 55,
      "outputs": []
    },
    {
      "cell_type": "code",
      "metadata": {
        "id": "cAA8HSBCnTOd"
      },
      "source": [
        "best_scores=[]\n",
        "best_trials=[]"
      ],
      "execution_count": 84,
      "outputs": []
    },
    {
      "cell_type": "code",
      "metadata": {
        "id": "zhGNV---1uwv"
      },
      "source": [
        "def objective(trial: Trial) -> float:\n",
        "    params_cat = {\n",
        "        \"random_state\": 42,\n",
        "        \"learning_rate\": 0.5,\n",
        "        \"n_estimators\": 10000,\n",
        "        \"verbose\" : 1,\n",
        "        \"objective\" : \"MAE\",\n",
        "        \"max_depth\": trial.suggest_int(\"max_depth\", 1, 16),\n",
        "        \"colsample_bylevel\": trial.suggest_float(\"colsample_bylevel\", 0.8, 1.0),\n",
        "        \"subsample\": trial.suggest_float(\"subsample\", 0.3, 1.0),\n",
        "        \"min_child_samples\": trial.suggest_int(\"min_child_samples\", 5, 200),\n",
        "        \"max_bin\": trial.suggest_int(\"max_bin\", 200, 500),\n",
        "    }\n",
        "    \n",
        "    X_tr, X_val, y_tr, y_val = train_test_split(X, y, test_size=0.2)\n",
        "\n",
        "    model = CatBoostRegressor(**params_cat)\n",
        "    model.fit(\n",
        "        X_tr,\n",
        "        y_tr,\n",
        "        eval_set=[(X_tr, y_tr), (X_val, y_val)],\n",
        "        early_stopping_rounds=10,\n",
        "        verbose=False,\n",
        "    )\n",
        "\n",
        "    cat_pred = model.predict(X_val)\n",
        "    log_score = mean_absolute_error(y_val, cat_pred)\n",
        "    \n",
        "    return log_score"
      ],
      "execution_count": 113,
      "outputs": []
    },
    {
      "cell_type": "code",
      "metadata": {
        "id": "eMAH75vm1v3a"
      },
      "source": [
        "sampler = TPESampler(seed=42)\n",
        "study = optuna.create_study(\n",
        "    study_name=\"cat_opt\",\n",
        "    direction=\"minimize\",\n",
        "    sampler=sampler,\n",
        ")\n",
        "study.optimize(objective, n_trials=10)\n",
        "print(\"Best Score:\", study.best_value)\n",
        "print(\"Best trial:\", study.best_trial.params)"
      ],
      "execution_count": null,
      "outputs": []
    },
    {
      "cell_type": "code",
      "metadata": {
        "id": "R_oUv8kV1wmp"
      },
      "source": [
        "cat_p = study.best_trial.params\n",
        "cat = CatBoostRegressor(**cat_p)"
      ],
      "execution_count": 126,
      "outputs": []
    },
    {
      "cell_type": "code",
      "metadata": {
        "id": "jFCcUkNQ1yvC",
        "colab": {
          "base_uri": "https://localhost:8080/"
        },
        "outputId": "a4b53607-436b-4083-cd4f-5e3dc0fb15e5"
      },
      "source": [
        "y_cat = pd.cut(y, 10, labels=range(10))\n",
        "skf = StratifiedKFold(5)\n",
        "\n",
        "preds = []\n",
        "for tr_id, val_id in skf.split(X, y_cat) : \n",
        "    X_tr = X.iloc[tr_id]\n",
        "    y_tr = y.iloc[tr_id]\n",
        "    \n",
        "    cat.fit(X_tr, y_tr, verbose = 0)\n",
        "    \n",
        "    pred = cat.predict(X_test)\n",
        "    preds.append(pred)\n",
        "\n",
        "cat_pred = np.mean(preds, axis = 0)"
      ],
      "execution_count": 127,
      "outputs": [
        {
          "output_type": "stream",
          "text": [
            "/usr/local/lib/python3.7/dist-packages/sklearn/model_selection/_split.py:667: UserWarning:\n",
            "\n",
            "The least populated class in y has only 2 members, which is less than n_splits=5.\n",
            "\n"
          ],
          "name": "stderr"
        }
      ]
    },
    {
      "cell_type": "code",
      "metadata": {
        "id": "FgAawSl010e2"
      },
      "source": [
        "sub = pd.read_csv('./data/sample_submission.csv')\n",
        "sample['num'] = cat_pred\n",
        "sample.to_csv('./cat05.csv', index=False)"
      ],
      "execution_count": 128,
      "outputs": []
    },
    {
      "cell_type": "code",
      "metadata": {
        "id": "GiJCk0Z4141a"
      },
      "source": [
        ""
      ],
      "execution_count": null,
      "outputs": []
    }
  ]
}